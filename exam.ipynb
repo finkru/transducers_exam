{
  "nbformat": 4,
  "nbformat_minor": 0,
  "metadata": {
    "colab": {
      "provenance": []
    },
    "kernelspec": {
      "name": "python3",
      "display_name": "Python 3"
    },
    "language_info": {
      "name": "python"
    }
  },
  "cells": [
    {
      "cell_type": "markdown",
      "source": [
        "# Задание 1\n",
        "\n",
        "Напишите lexd и twol файлы, для генерации глаголов с приставками:\n",
        "\n",
        "```\n",
        "\"вз-\": взлететь, взбежать, взбодрить\n",
        "\"воз-\": возлечь, возжелать, возблагодарить\n",
        "\"вс-\": вскричать, вспахать, вскипеть\n",
        "\"вос-\": восходить, воспарить, воспеть\n",
        "```\n",
        "\n",
        "Пример: `лететь:лететь`, `<prefix>лететь:взлететь`\n",
        "\n",
        "Выбор между `з` и `с` должен происходить в twol"
      ],
      "metadata": {
        "id": "tucS3JXrj6Ps"
      }
    },
    {
      "cell_type": "markdown",
      "source": [
        "# Задание 2\n",
        "\n",
        "Смоделируйте некоторые словоформы марокканского диалекта арабского языка:\n",
        "\n",
        "|Base form|translation  |Causative Form|\n",
        "|---------|-------------|--------------|\n",
        "|ktəb     |‘to write’   |kəttəb        |\n",
        "|ɦṛəb     |‘to run away’|ɦəṛṛəb        |\n",
        "|ʃṛəb     |‘to drink’   |ʃəṛṛəb        |\n",
        "|xrəʒ     |‘to go out’  |xərrəʒ        |\n",
        "|dxəl     |‘to get in’  |dəxxəl        |\n",
        "|kmi      |‘to smoke’   |kəmmi         |\n",
        "|xwi      |‘to empty’   |xəwwi         |\n",
        "\n",
        "Пример: `ktb<v>:ktəb`, `ktb<v><caus>:kəttəb`,\n",
        "`kmi<v>:kmi`, `kmi<v><caus>:kəmmi`\n"
      ],
      "metadata": {
        "id": "EU1NXZN01Rwk"
      }
    }
  ]
}